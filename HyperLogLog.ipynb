{
 "cells": [
  {
   "cell_type": "code",
   "execution_count": 2,
   "metadata": {},
   "outputs": [
    {
     "name": "stdout",
     "output_type": "stream",
     "text": [
      "5\n",
      "apple\n",
      "pineapple\n",
      "pine\n",
      "apple\n",
      "strawberry\n",
      "4.000488360737401\n"
     ]
    }
   ],
   "source": [
    "import hashlib\n",
    "import math\n",
    "\n",
    "def fnv1a(string):\n",
    "    hval = 2166136261\n",
    "    p = 16777619\n",
    "    for i in range(len(string)):\n",
    "        hval ^= ord(string[i])\n",
    "        hval *= p\n",
    "    return hval % (2 << (31)) \n",
    "\n",
    "def rank(hval, max):\n",
    "    r = 1\n",
    "    while ((hval & 1) == 0) and (r <= max):\n",
    "        r += 1\n",
    "        hval >>= 1\n",
    "    return r\n",
    "\n",
    "err = 0.01\n",
    "m = 1.04 / err\n",
    "k = math.ceil(math.log2(m * m))\n",
    "k_comp = 32 - k\n",
    "m = 2 << (k - 1)\n",
    "alpha_m = 0.7213 / (1 + 1.079/m)\n",
    "if m == 16:\n",
    "    alpha_m = 0.673\n",
    "elif m == 32:\n",
    "    alpha_m = 0.697\n",
    "elif m == 64:\n",
    "    alpha_m = 0.709\n",
    "\n",
    "def count(hval, M):\n",
    "    if hval:\n",
    "        j = int(hval >> k_comp)\n",
    "        M[j] = max(M[j], rank(hval, k_comp))\n",
    "    else:\n",
    "        c = 0.0\n",
    "        for i in range(m):\n",
    "            c += 1 / 2**M[i]\n",
    "        E = alpha_m * m * m / c\n",
    "        if E < 5/2*m:\n",
    "            V = 0\n",
    "            for i in range(m):\n",
    "                if M[i] == 0:\n",
    "                    V += 1\n",
    "            if V > 0:\n",
    "                E = m * math.log(m / V)\n",
    "        elif E > 1/30 << 32:\n",
    "            E = -math.log(1 - E >> 32) << 32 # -log(1 - E / 2**32) * 2**32\n",
    "        return E\n",
    "    \n",
    "N = int(input())\n",
    "M = [0] * m\n",
    "for i in range(N):\n",
    "    count(fnv1a(input()), M)\n",
    "count = count(False, M);\n",
    "print(count)"
   ]
  }
 ],
 "metadata": {
  "kernelspec": {
   "display_name": "Python 3",
   "language": "python",
   "name": "python3"
  },
  "language_info": {
   "codemirror_mode": {
    "name": "ipython",
    "version": 3
   },
   "file_extension": ".py",
   "mimetype": "text/x-python",
   "name": "python",
   "nbconvert_exporter": "python",
   "pygments_lexer": "ipython3",
   "version": "3.7.1"
  }
 },
 "nbformat": 4,
 "nbformat_minor": 2
}
